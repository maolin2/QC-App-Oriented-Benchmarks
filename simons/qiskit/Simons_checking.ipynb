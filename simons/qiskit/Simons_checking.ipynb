{
 "cells": [
  {
   "cell_type": "code",
   "execution_count": 1,
   "id": "7ab0beec",
   "metadata": {},
   "outputs": [],
   "source": [
    "from simons_benchmark import Simon_oracle, Simon, get_correct_dist"
   ]
  },
  {
   "cell_type": "code",
   "execution_count": 18,
   "id": "8deed715",
   "metadata": {},
   "outputs": [
    {
     "name": "stdout",
     "output_type": "stream",
     "text": [
      "The circuit for Simon's problem with (num_qubits, secret_int) = (6, 1)\n"
     ]
    },
    {
     "data": {
      "text/html": [
       "<pre style=\"word-wrap: normal;white-space: pre;background: #fff0;line-height: 1.1;font-family: &quot;Courier New&quot;,Courier,monospace\">       ┌───┐ ░ ┌─────┐ ░ ┌───┐┌─┐      \n",
       "q14_0: ┤ H ├─░─┤0    ├─░─┤ H ├┤M├──────\n",
       "       ├───┤ ░ │     │ ░ ├───┤└╥┘┌─┐   \n",
       "q14_1: ┤ H ├─░─┤1    ├─░─┤ H ├─╫─┤M├───\n",
       "       ├───┤ ░ │     │ ░ ├───┤ ║ └╥┘┌─┐\n",
       "q14_2: ┤ H ├─░─┤2    ├─░─┤ H ├─╫──╫─┤M├\n",
       "       └───┘ ░ │  Uf │ ░ └───┘ ║  ║ └╥┘\n",
       "q14_3: ──────░─┤3    ├─░───────╫──╫──╫─\n",
       "             ░ │     │ ░       ║  ║  ║ \n",
       "q14_4: ──────░─┤4    ├─░───────╫──╫──╫─\n",
       "             ░ │     │ ░       ║  ║  ║ \n",
       "q14_5: ──────░─┤5    ├─░───────╫──╫──╫─\n",
       "             ░ └─────┘ ░       ║  ║  ║ \n",
       " c5: 3/════════════════════════╩══╩══╩═\n",
       "                               0  1  2 </pre>"
      ],
      "text/plain": [
       "       ┌───┐ ░ ┌─────┐ ░ ┌───┐┌─┐      \n",
       "q14_0: ┤ H ├─░─┤0    ├─░─┤ H ├┤M├──────\n",
       "       ├───┤ ░ │     │ ░ ├───┤└╥┘┌─┐   \n",
       "q14_1: ┤ H ├─░─┤1    ├─░─┤ H ├─╫─┤M├───\n",
       "       ├───┤ ░ │     │ ░ ├───┤ ║ └╥┘┌─┐\n",
       "q14_2: ┤ H ├─░─┤2    ├─░─┤ H ├─╫──╫─┤M├\n",
       "       └───┘ ░ │  Uf │ ░ └───┘ ║  ║ └╥┘\n",
       "q14_3: ──────░─┤3    ├─░───────╫──╫──╫─\n",
       "             ░ │     │ ░       ║  ║  ║ \n",
       "q14_4: ──────░─┤4    ├─░───────╫──╫──╫─\n",
       "             ░ │     │ ░       ║  ║  ║ \n",
       "q14_5: ──────░─┤5    ├─░───────╫──╫──╫─\n",
       "             ░ └─────┘ ░       ║  ║  ║ \n",
       " c5: 3/════════════════════════╩══╩══╩═\n",
       "                               0  1  2 "
      ]
     },
     "execution_count": 18,
     "metadata": {},
     "output_type": "execute_result"
    }
   ],
   "source": [
    "num_qubits, secret_int = 6, 1\n",
    "\n",
    "print(f\"The circuit for Simon's problem with (num_qubits, secret_int) = {(num_qubits, secret_int)}\")\n",
    "Simon(num_qubits, secret_int).draw()"
   ]
  },
  {
   "cell_type": "code",
   "execution_count": 19,
   "id": "35d3ded0",
   "metadata": {},
   "outputs": [
    {
     "name": "stdout",
     "output_type": "stream",
     "text": [
      "The oracle for Simon's problem with (num_qubits, secret_int) = (6, 1)\n"
     ]
    },
    {
     "data": {
      "text/html": [
       "<pre style=\"word-wrap: normal;white-space: pre;background: #fff0;line-height: 1.1;font-family: &quot;Courier New&quot;,Courier,monospace\">                           \n",
       "q16_0: ──■──────────────■──\n",
       "         │              │  \n",
       "q16_1: ──┼────■─────────┼──\n",
       "         │    │         │  \n",
       "q16_2: ──┼────┼────■────┼──\n",
       "       ┌─┴─┐  │    │  ┌─┴─┐\n",
       "q16_3: ┤ X ├──┼────┼──┤ X ├\n",
       "       └───┘┌─┴─┐  │  └───┘\n",
       "q16_4: ─────┤ X ├──┼───────\n",
       "            └───┘┌─┴─┐     \n",
       "q16_5: ──────────┤ X ├─────\n",
       "                 └───┘     </pre>"
      ],
      "text/plain": [
       "                           \n",
       "q16_0: ──■──────────────■──\n",
       "         │              │  \n",
       "q16_1: ──┼────■─────────┼──\n",
       "         │    │         │  \n",
       "q16_2: ──┼────┼────■────┼──\n",
       "       ┌─┴─┐  │    │  ┌─┴─┐\n",
       "q16_3: ┤ X ├──┼────┼──┤ X ├\n",
       "       └───┘┌─┴─┐  │  └───┘\n",
       "q16_4: ─────┤ X ├──┼───────\n",
       "            └───┘┌─┴─┐     \n",
       "q16_5: ──────────┤ X ├─────\n",
       "                 └───┘     "
      ]
     },
     "execution_count": 19,
     "metadata": {},
     "output_type": "execute_result"
    }
   ],
   "source": [
    "print(f\"The oracle for Simon's problem with (num_qubits, secret_int) = {(num_qubits, secret_int)}\")\n",
    "Simon_oracle(num_qubits, secret_int).draw()"
   ]
  },
  {
   "cell_type": "code",
   "execution_count": 20,
   "id": "ca3d0174",
   "metadata": {},
   "outputs": [
    {
     "name": "stdout",
     "output_type": "stream",
     "text": [
      "0 {'000': 0.125, '001': 0.125, '010': 0.125, '011': 0.125, '100': 0.125, '101': 0.125, '110': 0.125, '111': 0.125}\n",
      "1 {'000': 0.25, '010': 0.25, '100': 0.25, '110': 0.25}\n",
      "2 {'000': 0.25, '001': 0.25, '100': 0.25, '101': 0.25}\n",
      "3 {'000': 0.25, '011': 0.25, '100': 0.25, '111': 0.25}\n",
      "4 {'000': 0.25, '001': 0.25, '010': 0.25, '011': 0.25}\n",
      "5 {'000': 0.25, '010': 0.25, '101': 0.25, '111': 0.25}\n",
      "6 {'000': 0.25, '001': 0.25, '110': 0.25, '111': 0.25}\n",
      "7 {'000': 0.25, '011': 0.25, '101': 0.25, '110': 0.25}\n"
     ]
    }
   ],
   "source": [
    "for secret_int in range(2**(int(num_qubits/2))):\n",
    "    print(secret_int, get_correct_dist(num_qubits, secret_int))"
   ]
  },
  {
   "cell_type": "code",
   "execution_count": null,
   "id": "76ee34f0",
   "metadata": {},
   "outputs": [],
   "source": []
  }
 ],
 "metadata": {
  "kernelspec": {
   "display_name": "Python 3 (ipykernel)",
   "language": "python",
   "name": "python3"
  },
  "language_info": {
   "codemirror_mode": {
    "name": "ipython",
    "version": 3
   },
   "file_extension": ".py",
   "mimetype": "text/x-python",
   "name": "python",
   "nbconvert_exporter": "python",
   "pygments_lexer": "ipython3",
   "version": "3.8.12"
  }
 },
 "nbformat": 4,
 "nbformat_minor": 5
}
