{
 "cells": [
  {
   "cell_type": "code",
   "execution_count": 10,
   "id": "d484eea9",
   "metadata": {},
   "outputs": [],
   "source": [
    "from qiskit import Aer, QuantumCircuit, QuantumRegister, ClassicalRegister\n",
    "from qiskit.compiler import transpile\n",
    "from qiskit.circuit.library.standard_gates import PhaseGate, MCPhaseGate\n",
    "\n",
    "\n",
    "import numpy as np\n",
    "pi = np.pi\n",
    "backend = Aer.get_backend('qasm_simulator')"
   ]
  },
  {
   "cell_type": "code",
   "execution_count": 11,
   "id": "c435eed6",
   "metadata": {},
   "outputs": [],
   "source": [
    "def IQPE_circ(qc0, U, ϕs, k):\n",
    "    \"\"\"The quantum circuit for the IQPE\n",
    "    \n",
    "    Args:\n",
    "        qc0: Quantum circuit for the initial state |ψ>\n",
    "        U: The gate used to estimate the phase\n",
    "        ϕs: The digits previously measured\n",
    "        k: The k-th iteration\n",
    "        \n",
    "    Note: \n",
    "        We don't include the circuit that create the state |ψ>\n",
    "    \n",
    "    \"\"\"\n",
    "    n = qc0.num_qubits\n",
    "    qr = QuantumRegister(n+1)\n",
    "    cr = ClassicalRegister(1)\n",
    "    qc = QuantumCircuit(qr, cr)\n",
    "#     qc = QuantumCircuit(qr)\n",
    "    \n",
    "    qc.append(qc0, qr[1:])\n",
    "    \n",
    "    ωk = 0\n",
    "    for i, ϕ0 in enumerate(ϕs):\n",
    "        ωk += ϕ0 * 2**(-(i+2))\n",
    "    \n",
    "    ωk = -2*pi * ωk\n",
    "      \n",
    "    qc.h(0)  \n",
    "    p = 2**(k-1)\n",
    "\n",
    "    Up = U.power(p).control(1, label=f\"U^{p}\") \n",
    "    \n",
    "    qc.append(Up, qr)\n",
    "    \n",
    "    qc.rz(ωk, 0)\n",
    "    qc.h(0)\n",
    "    qc.measure(0, 0)\n",
    "    \n",
    "    return qc\n",
    "\n",
    "def IQPE(qc0, U, m, backend = Aer.get_backend('qasm_simulator'), shots = 1000):\n",
    "    \"\"\"Use IQPE to estimate ϕ.\n",
    "    \n",
    "    Args:\n",
    "        qc0: Quantum circuit for the initial state |ψ>\n",
    "        U: The gate used to estimate the phase\n",
    "        m: The number of digits for ϕ \n",
    "        backend: The backend used for IQPE\n",
    "        shots: number of shots\n",
    "    \"\"\"\n",
    "    \n",
    "    n = qc0.num_qubits\n",
    "    qr = QuantumRegister(n+1)\n",
    "    qc = QuantumCircuit(qr)\n",
    "    qc.append(qc0, qr[1:])\n",
    "\n",
    "    ϕs = []\n",
    "    counts_list = []\n",
    "    for k in range(m, 0, -1):\n",
    "#         qc.append(IQPE_circ(n, U, ϕs, k), qr)\n",
    "        qc = IQPE_circ(qc0, U, ϕs, k)\n",
    "        \n",
    "        qc_transpile = transpile(qc, backend=backend, seed_transpiler=42, optimization_level=3)\n",
    "        counts = backend.run(qc_transpile, shots = shots).result().get_counts()\n",
    "        counts_list.append(counts)\n",
    "        if '1' in counts:\n",
    "            ϕs.insert(0, 1)\n",
    "        else:\n",
    "            ϕs.insert(0, 0)\n",
    "        \n",
    "    return ϕs, counts_list, qc\n",
    "    "
   ]
  },
  {
   "cell_type": "code",
   "execution_count": 12,
   "id": "f3c361ed",
   "metadata": {},
   "outputs": [
    {
     "name": "stdout",
     "output_type": "stream",
     "text": [
      "ϕ, ϕs=(0.720703125, [1, 0, 1, 1, 1, 0, 0, 0, 1, 0])\n",
      "n, m, ϕs=(4, 10, [1, 0, 1, 1, 1, 0, 0, 0, 1, 0])\n",
      "counts_list=[{'0': 1000}, {'1': 1000}, {'0': 1000}, {'0': 1000}, {'0': 1000}, {'1': 1000}, {'1': 1000}, {'1': 1000}, {'0': 1000}, {'1': 1000}]\n"
     ]
    },
    {
     "data": {
      "text/html": [
       "<pre style=\"word-wrap: normal;white-space: pre;background: #fff0;line-height: 1.1;font-family: &quot;Courier New&quot;,Courier,monospace\">          ┌───┐      U^1      ┌─────────────┐┌───┐┌─┐\n",
       "q2357_0: ─┤ H ├───────■───────┤ Rz(-1.3867) ├┤ H ├┤M├\n",
       "         ┌┴───┴┐┌─────┴──────┐└─────────────┘└───┘└╥┘\n",
       "q2357_1: ┤0    ├┤0           ├─────────────────────╫─\n",
       "         │     ││            │                     ║ \n",
       "q2357_2: ┤1    ├┤1           ├─────────────────────╫─\n",
       "         │  Xs ││  mcphase^1 │                     ║ \n",
       "q2357_3: ┤2    ├┤2           ├─────────────────────╫─\n",
       "         │     ││            │                     ║ \n",
       "q2357_4: ┤3    ├┤3           ├─────────────────────╫─\n",
       "         └─────┘└────────────┘                     ║ \n",
       "  c19: 1/══════════════════════════════════════════╩═\n",
       "                                                   0 </pre>"
      ],
      "text/plain": [
       "          ┌───┐      U^1      ┌─────────────┐┌───┐┌─┐\n",
       "q2357_0: ─┤ H ├───────■───────┤ Rz(-1.3867) ├┤ H ├┤M├\n",
       "         ┌┴───┴┐┌─────┴──────┐└─────────────┘└───┘└╥┘\n",
       "q2357_1: ┤0    ├┤0           ├─────────────────────╫─\n",
       "         │     ││            │                     ║ \n",
       "q2357_2: ┤1    ├┤1           ├─────────────────────╫─\n",
       "         │  Xs ││  mcphase^1 │                     ║ \n",
       "q2357_3: ┤2    ├┤2           ├─────────────────────╫─\n",
       "         │     ││            │                     ║ \n",
       "q2357_4: ┤3    ├┤3           ├─────────────────────╫─\n",
       "         └─────┘└────────────┘                     ║ \n",
       "  c19: 1/══════════════════════════════════════════╩═\n",
       "                                                   0 "
      ]
     },
     "execution_count": 12,
     "metadata": {},
     "output_type": "execute_result"
    }
   ],
   "source": [
    "m = 10\n",
    "ϕs = [0] * int(m/2) + [1] * (m-int(m/2))\n",
    "np.random.shuffle(ϕs)\n",
    "ϕ = sum([ϕ0 * 2**(-i-1) for i, ϕ0 in enumerate(ϕs)])\n",
    "\n",
    "print(f\"ϕ, ϕs={ϕ, ϕs}\")\n",
    "\n",
    "n = 4\n",
    "\n",
    "if n==1:\n",
    "    U = PhaseGate(2*pi*ϕ)\n",
    "else:\n",
    "    U = MCPhaseGate(2*pi*ϕ, n-1)\n",
    "\n",
    "qc0 = QuantumCircuit(n, name = 'Xs')\n",
    "for i in range(qc0.num_qubits):\n",
    "    qc0.x(i)\n",
    "    \n",
    "ϕs, counts_list, qc = IQPE(qc0, U, m)\n",
    "print(f\"n, m, ϕs={n, m, ϕs}\")\n",
    "print(f\"counts_list={counts_list}\")\n",
    "qc.draw()"
   ]
  },
  {
   "cell_type": "code",
   "execution_count": 13,
   "id": "aef8cd64",
   "metadata": {},
   "outputs": [],
   "source": [
    "a = range(9)"
   ]
  },
  {
   "cell_type": "code",
   "execution_count": 14,
   "id": "c2730248",
   "metadata": {},
   "outputs": [
    {
     "data": {
      "text/plain": [
       "[0, 1, 2, 3, 4, 5, 6, 7, 8]"
      ]
     },
     "execution_count": 14,
     "metadata": {},
     "output_type": "execute_result"
    }
   ],
   "source": [
    "list(a)"
   ]
  },
  {
   "cell_type": "code",
   "execution_count": 15,
   "id": "cf2f5446",
   "metadata": {},
   "outputs": [
    {
     "name": "stdout",
     "output_type": "stream",
     "text": [
      "9 []\n",
      "8 [8]\n",
      "7 [7, 8]\n",
      "6 [6, 7, 8]\n",
      "5 [5, 6, 7, 8]\n",
      "4 [4, 5, 6, 7, 8]\n",
      "3 [3, 4, 5, 6, 7, 8]\n",
      "2 [2, 3, 4, 5, 6, 7, 8]\n",
      "1 [1, 2, 3, 4, 5, 6, 7, 8]\n"
     ]
    }
   ],
   "source": [
    "for k in range(len(a), 0, -1):\n",
    "    print(k, list(a[k:]))"
   ]
  },
  {
   "cell_type": "code",
   "execution_count": 17,
   "id": "2ef8bb57",
   "metadata": {},
   "outputs": [
    {
     "ename": "AttributeError",
     "evalue": "'QuantumCircuit' object has no attribute 'U'",
     "output_type": "error",
     "traceback": [
      "\u001b[0;31m---------------------------------------------------------------------------\u001b[0m",
      "\u001b[0;31mAttributeError\u001b[0m                            Traceback (most recent call last)",
      "\u001b[0;32m/var/folders/zs/ydqv_4s171dgt2n2lnq2vj600000gn/T/ipykernel_63084/3929160783.py\u001b[0m in \u001b[0;36m<module>\u001b[0;34m\u001b[0m\n\u001b[1;32m      1\u001b[0m \u001b[0mqrU\u001b[0m \u001b[0;34m=\u001b[0m \u001b[0mQuantumRegister\u001b[0m\u001b[0;34m(\u001b[0m\u001b[0mn\u001b[0m\u001b[0;34m)\u001b[0m\u001b[0;34m\u001b[0m\u001b[0;34m\u001b[0m\u001b[0m\n\u001b[1;32m      2\u001b[0m \u001b[0mqcU\u001b[0m \u001b[0;34m=\u001b[0m \u001b[0mQuantumCircuit\u001b[0m\u001b[0;34m(\u001b[0m\u001b[0mn\u001b[0m\u001b[0;34m)\u001b[0m\u001b[0;34m\u001b[0m\u001b[0;34m\u001b[0m\u001b[0m\n\u001b[0;32m----> 3\u001b[0;31m \u001b[0mqcU\u001b[0m\u001b[0;34m.\u001b[0m\u001b[0mU\u001b[0m\u001b[0;34m(\u001b[0m\u001b[0mqr\u001b[0m\u001b[0;34m)\u001b[0m\u001b[0;34m\u001b[0m\u001b[0;34m\u001b[0m\u001b[0m\n\u001b[0m",
      "\u001b[0;31mAttributeError\u001b[0m: 'QuantumCircuit' object has no attribute 'U'"
     ]
    }
   ],
   "source": [
    "qrU = QuantumRegister(n)\n",
    "qcU = QuantumCircuit(n)\n",
    "qcU"
   ]
  },
  {
   "cell_type": "code",
   "execution_count": null,
   "id": "ec7a2df5",
   "metadata": {},
   "outputs": [],
   "source": []
  }
 ],
 "metadata": {
  "kernelspec": {
   "display_name": "Python 3 (ipykernel)",
   "language": "python",
   "name": "python3"
  },
  "language_info": {
   "codemirror_mode": {
    "name": "ipython",
    "version": 3
   },
   "file_extension": ".py",
   "mimetype": "text/x-python",
   "name": "python",
   "nbconvert_exporter": "python",
   "pygments_lexer": "ipython3",
   "version": "3.8.12"
  }
 },
 "nbformat": 4,
 "nbformat_minor": 5
}
