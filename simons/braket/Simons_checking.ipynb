{
 "cells": [
  {
   "cell_type": "code",
   "execution_count": 1,
   "id": "7ab0beec",
   "metadata": {},
   "outputs": [],
   "source": [
    "from simons_benchmark import Simon_oracle, Simon, get_correct_dist"
   ]
  },
  {
   "cell_type": "code",
   "execution_count": 2,
   "id": "8deed715",
   "metadata": {},
   "outputs": [
    {
     "name": "stdout",
     "output_type": "stream",
     "text": [
      "The circuit for Simon's problem with (num_qubits, secret_int) = (6, 4)\n",
      "T  : |0|  1  |2|3|\n",
      "                  \n",
      "q0 : -H-C-----H---\n",
      "        |         \n",
      "q1 : -H-|-C---H---\n",
      "        | |       \n",
      "q2 : -H-|-|-C-C-H-\n",
      "        | | | |   \n",
      "q3 : ---X-|-|-|---\n",
      "          | | |   \n",
      "q4 : -----X-|-|---\n",
      "            | |   \n",
      "q5 : -------X-X---\n",
      "\n",
      "T  : |0|  1  |2|3|\n"
     ]
    }
   ],
   "source": [
    "num_qubits, secret_int = 6, 4\n",
    "\n",
    "print(f\"The circuit for Simon's problem with (num_qubits, secret_int) = {(num_qubits, secret_int)}\")\n",
    "\n",
    "simon_circ = Simon(num_qubits, secret_int)\n",
    "\n",
    "print(simon_circ)"
   ]
  },
  {
   "cell_type": "code",
   "execution_count": 3,
   "id": "35d3ded0",
   "metadata": {},
   "outputs": [
    {
     "name": "stdout",
     "output_type": "stream",
     "text": [
      "The oracle for Simon's problem with (num_qubits, secret_int) = (6, 4)\n",
      "T  : |  0  |1|\n",
      "              \n",
      "q0 : -C-------\n",
      "      |       \n",
      "q1 : -|-C-----\n",
      "      | |     \n",
      "q2 : -|-|-C-C-\n",
      "      | | | | \n",
      "q3 : -X-|-|-|-\n",
      "        | | | \n",
      "q4 : ---X-|-|-\n",
      "          | | \n",
      "q5 : -----X-X-\n",
      "\n",
      "T  : |  0  |1|\n"
     ]
    }
   ],
   "source": [
    "print(f\"The oracle for Simon's problem with (num_qubits, secret_int) = {(num_qubits, secret_int)}\")\n",
    "print(Simon_oracle(num_qubits, secret_int))"
   ]
  },
  {
   "cell_type": "code",
   "execution_count": 4,
   "id": "ca3d0174",
   "metadata": {},
   "outputs": [
    {
     "name": "stdout",
     "output_type": "stream",
     "text": [
      "0 {'000': 0.125, '001': 0.125, '010': 0.125, '011': 0.125, '100': 0.125, '101': 0.125, '110': 0.125, '111': 0.125}\n",
      "1 {'000': 0.25, '010': 0.25, '100': 0.25, '110': 0.25}\n",
      "2 {'000': 0.25, '001': 0.25, '100': 0.25, '101': 0.25}\n",
      "3 {'000': 0.25, '011': 0.25, '100': 0.25, '111': 0.25}\n",
      "4 {'000': 0.25, '001': 0.25, '010': 0.25, '011': 0.25}\n",
      "5 {'000': 0.25, '010': 0.25, '101': 0.25, '111': 0.25}\n",
      "6 {'000': 0.25, '001': 0.25, '110': 0.25, '111': 0.25}\n",
      "7 {'000': 0.25, '011': 0.25, '101': 0.25, '110': 0.25}\n"
     ]
    }
   ],
   "source": [
    "for secret_int in range(2**(int(num_qubits/2))):\n",
    "    print(secret_int, get_correct_dist(num_qubits, secret_int))"
   ]
  },
  {
   "cell_type": "code",
   "execution_count": 6,
   "id": "76ee34f0",
   "metadata": {},
   "outputs": [
    {
     "name": "stdout",
     "output_type": "stream",
     "text": [
      "{'001': 236, '000': 247, '010': 234, '011': 283}\n"
     ]
    }
   ],
   "source": [
    "from braket.devices import LocalSimulator\n",
    "\n",
    "device = LocalSimulator()\n",
    "\n",
    "result = device.run(simon_circ, shots=1000).result()\n",
    "counts_r = result.measurement_counts\n",
    "\n",
    "counts = {}\n",
    "for measurement_r in counts_r.keys():\n",
    "    measurement = measurement_r[:int(num_qubits/2)][::-1] # remove data qubit and reverse order\n",
    "    if measurement in counts:\n",
    "        counts[measurement] += counts_r[measurement_r]\n",
    "    else:\n",
    "        counts[measurement] = counts_r[measurement_r]\n",
    "\n",
    "print(counts)"
   ]
  },
  {
   "cell_type": "code",
   "execution_count": null,
   "id": "c7c71591",
   "metadata": {},
   "outputs": [],
   "source": []
  }
 ],
 "metadata": {
  "kernelspec": {
   "display_name": "Python 3 (ipykernel)",
   "language": "python",
   "name": "python3"
  },
  "language_info": {
   "codemirror_mode": {
    "name": "ipython",
    "version": 3
   },
   "file_extension": ".py",
   "mimetype": "text/x-python",
   "name": "python",
   "nbconvert_exporter": "python",
   "pygments_lexer": "ipython3",
   "version": "3.8.12"
  }
 },
 "nbformat": 4,
 "nbformat_minor": 5
}
